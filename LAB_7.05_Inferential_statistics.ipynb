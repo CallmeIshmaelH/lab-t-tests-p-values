{
 "cells": [
  {
   "cell_type": "markdown",
   "source": [
    "# Lab | Inferential statistics - T-test & P-value\r\n"
   ],
   "metadata": {}
  },
  {
   "cell_type": "code",
   "execution_count": 2,
   "source": [
    "#import libraries\r\n",
    "import pandas as pd\r\n",
    "import numpy as np\r\n",
    "import scipy.stats as st \r\n",
    "from sklearn import feature_selection\r\n",
    "import matplotlib.pyplot as plt\r\n",
    "import seaborn as sns\r\n",
    "%matplotlib inline"
   ],
   "outputs": [],
   "metadata": {}
  },
  {
   "cell_type": "markdown",
   "source": [
    "# 1. *One tailed t-test* \r\n",
    "- In a packing plant, a machine packs cartons with jars.   \r\n",
    "- It is supposed that a new machine will pack faster on the average than the machine currently used.  \r\n",
    "- To test that hypothesis, the times it takes each machine to pack ten cartons are recorded.  \r\n",
    "- The results, in seconds, are shown in the tables in the file `files_for_lab/machine.txt`.\r\n",
    "- Assume that there is sufficient evidence to conduct the t test, does the data provide sufficient evidence to show if one machine is better than the other?"
   ],
   "metadata": {}
  },
  {
   "cell_type": "code",
   "execution_count": 9,
   "source": [
    "# open machine.txt and create dataframe from the samples.\r\n",
    "# Old_Machine = [42.1,41.0,41.3,41.8,42.4,42.8,43.2,42.3,41.8,42.7]\r\n",
    "# New_Machine = [42.7,43.6,43.8,43.3,42.5,43.5,43.1,41.7,44.0,44.1]\r\n",
    "# machine_test = pd.DataFrame(Old_Machine, New_Machine).reset_index()\r\n",
    "# machine_test.columns = ['old_machine', 'new_machine']\r\n",
    "# machine_test\r\n",
    "machine_test = pd.read_csv(r'.\\files_for_lab\\machine2.txt', sep = '\\s')\r\n",
    "machine_test"
   ],
   "outputs": [
    {
     "output_type": "stream",
     "name": "stderr",
     "text": [
      "C:\\Users\\Ish\\AppData\\Local\\Programs\\Python\\Python39\\lib\\site-packages\\pandas\\util\\_decorators.py:311: ParserWarning: Falling back to the 'python' engine because the 'c' engine does not support regex separators (separators > 1 char and different from '\\s+' are interpreted as regex); you can avoid this warning by specifying engine='python'.\n",
      "  return func(*args, **kwargs)\n"
     ]
    },
    {
     "output_type": "execute_result",
     "data": {
      "text/html": [
       "<div>\n",
       "<style scoped>\n",
       "    .dataframe tbody tr th:only-of-type {\n",
       "        vertical-align: middle;\n",
       "    }\n",
       "\n",
       "    .dataframe tbody tr th {\n",
       "        vertical-align: top;\n",
       "    }\n",
       "\n",
       "    .dataframe thead th {\n",
       "        text-align: right;\n",
       "    }\n",
       "</style>\n",
       "<table border=\"1\" class=\"dataframe\">\n",
       "  <thead>\n",
       "    <tr style=\"text-align: right;\">\n",
       "      <th></th>\n",
       "      <th>New_machine</th>\n",
       "      <th>Old_machine</th>\n",
       "    </tr>\n",
       "  </thead>\n",
       "  <tbody>\n",
       "    <tr>\n",
       "      <th>0</th>\n",
       "      <td>42.1</td>\n",
       "      <td>42.7</td>\n",
       "    </tr>\n",
       "    <tr>\n",
       "      <th>1</th>\n",
       "      <td>41.0</td>\n",
       "      <td>43.6</td>\n",
       "    </tr>\n",
       "    <tr>\n",
       "      <th>2</th>\n",
       "      <td>41.3</td>\n",
       "      <td>43.8</td>\n",
       "    </tr>\n",
       "    <tr>\n",
       "      <th>3</th>\n",
       "      <td>41.8</td>\n",
       "      <td>43.3</td>\n",
       "    </tr>\n",
       "    <tr>\n",
       "      <th>4</th>\n",
       "      <td>42.4</td>\n",
       "      <td>42.5</td>\n",
       "    </tr>\n",
       "    <tr>\n",
       "      <th>5</th>\n",
       "      <td>42.8</td>\n",
       "      <td>43.5</td>\n",
       "    </tr>\n",
       "    <tr>\n",
       "      <th>6</th>\n",
       "      <td>43.2</td>\n",
       "      <td>43.1</td>\n",
       "    </tr>\n",
       "    <tr>\n",
       "      <th>7</th>\n",
       "      <td>42.3</td>\n",
       "      <td>41.7</td>\n",
       "    </tr>\n",
       "    <tr>\n",
       "      <th>8</th>\n",
       "      <td>41.8</td>\n",
       "      <td>44.0</td>\n",
       "    </tr>\n",
       "    <tr>\n",
       "      <th>9</th>\n",
       "      <td>42.7</td>\n",
       "      <td>44.1</td>\n",
       "    </tr>\n",
       "  </tbody>\n",
       "</table>\n",
       "</div>"
      ],
      "text/plain": [
       "   New_machine  Old_machine\n",
       "0         42.1         42.7\n",
       "1         41.0         43.6\n",
       "2         41.3         43.8\n",
       "3         41.8         43.3\n",
       "4         42.4         42.5\n",
       "5         42.8         43.5\n",
       "6         43.2         43.1\n",
       "7         42.3         41.7\n",
       "8         41.8         44.0\n",
       "9         42.7         44.1"
      ]
     },
     "metadata": {},
     "execution_count": 9
    }
   ],
   "metadata": {}
  },
  {
   "cell_type": "code",
   "execution_count": 35,
   "source": [
    "# 1. Conduct a ttest to determine whether the hypothesis that the new machine will perform better than the old machine or not.\r\n",
    "# H_0 = The average time for the old machine and the new machine is the same.\r\n",
    "# H_1 = The average time for the old machine is greater than the average time for the new machine.\r\n",
    "# assume the alpha is small as this may be a decision that could cost the company money in terms of productivity hours.\r\n",
    "# a = 0.03\r\n",
    "# as these are two samples that can be directly related with each other, we can use the st.ttest_rel() test\r\n",
    "st.ttest_rel(machine_test['New_machine'], machine_test['Old_machine'])\r\n",
    "\r\n",
    "# As we are only interested in whether the average time for the new machine is less than the old machine, this is a one-tailed test.\r\n",
    "one_tailed_p = st.ttest_rel(machine_test['New_machine'], machine_test['Old_machine'])[1]/2\r\n",
    "print('One-tail P value = ', one_tailed_p)\r\n",
    "\r\n",
    "# Given the p-value against our measure of confidence, we can say that H_0 can be rejected.\r\n",
    "old_machine_mean = np.mean(machine_test['Old_machine'])\r\n",
    "new_machine_mean = np.mean(machine_test['New_machine'])\r\n",
    "\r\n",
    "# Use the 1samp test\r\n",
    "one_tailed_p_1samp = st.ttest_1samp(machine_test['New_machine'], np.round(old_machine_mean,2))[1]/2\r\n",
    "print('One-tail P value 1samp = ', one_tailed_p_1samp)\r\n"
   ],
   "outputs": [
    {
     "output_type": "stream",
     "name": "stdout",
     "text": [
      "One-tail P value =  0.006770167825816245\n",
      "One-tail P value 1samp =  0.0003483188038379669\n"
     ]
    }
   ],
   "metadata": {}
  },
  {
   "cell_type": "markdown",
   "source": [
    "# 2. *Matched Pairs Test*   \r\n",
    "- In this challenge we will compare dependent samples of data describing our Pokemon (file `files_for_lab/pokemon.csv`).  \r\n",
    "- Our goal is to see whether there is a significant difference between each Pokemon's defense and attack scores.  \r\n",
    "- Our hypothesis is that the defense and attack scores are equal.   \r\n",
    "- Compare the two columns to see if there is a statistically significant difference between them and comment your result."
   ],
   "metadata": {}
  },
  {
   "cell_type": "code",
   "execution_count": 17,
   "source": [
    "#2. Matched Pair Testing\r\n",
    "# See whether there is a significant difference between each Pokemon's defense and attack scores. \r\n",
    "# H_0 = the defense and attack scores are equal. \r\n",
    "# We will assume that confidence is 5%.\r\n",
    "# Compare the two columns to see if there is a statistically significant difference between them and comment your result.\r\n",
    "pokemane = pd.read_csv('./files_for_lab/pokemon.csv')\r\n",
    "pokemane_atk_def = pokemane[['Attack','Defense']]\r\n",
    "pokemane_atk_def\r\n",
    "# create a sample from the total population.\r\n",
    "pokemane_atk_def_sample = pokemane_atk_def.sample(int(len(pokemane)/4))\r\n"
   ],
   "outputs": [
    {
     "output_type": "execute_result",
     "data": {
      "text/html": [
       "<div>\n",
       "<style scoped>\n",
       "    .dataframe tbody tr th:only-of-type {\n",
       "        vertical-align: middle;\n",
       "    }\n",
       "\n",
       "    .dataframe tbody tr th {\n",
       "        vertical-align: top;\n",
       "    }\n",
       "\n",
       "    .dataframe thead th {\n",
       "        text-align: right;\n",
       "    }\n",
       "</style>\n",
       "<table border=\"1\" class=\"dataframe\">\n",
       "  <thead>\n",
       "    <tr style=\"text-align: right;\">\n",
       "      <th></th>\n",
       "      <th>Attack</th>\n",
       "      <th>Defense</th>\n",
       "    </tr>\n",
       "  </thead>\n",
       "  <tbody>\n",
       "    <tr>\n",
       "      <th>153</th>\n",
       "      <td>105</td>\n",
       "      <td>65</td>\n",
       "    </tr>\n",
       "    <tr>\n",
       "      <th>546</th>\n",
       "      <td>70</td>\n",
       "      <td>120</td>\n",
       "    </tr>\n",
       "    <tr>\n",
       "      <th>718</th>\n",
       "      <td>61</td>\n",
       "      <td>65</td>\n",
       "    </tr>\n",
       "    <tr>\n",
       "      <th>3</th>\n",
       "      <td>100</td>\n",
       "      <td>123</td>\n",
       "    </tr>\n",
       "    <tr>\n",
       "      <th>543</th>\n",
       "      <td>160</td>\n",
       "      <td>110</td>\n",
       "    </tr>\n",
       "    <tr>\n",
       "      <th>...</th>\n",
       "      <td>...</td>\n",
       "      <td>...</td>\n",
       "    </tr>\n",
       "    <tr>\n",
       "      <th>203</th>\n",
       "      <td>45</td>\n",
       "      <td>50</td>\n",
       "    </tr>\n",
       "    <tr>\n",
       "      <th>298</th>\n",
       "      <td>100</td>\n",
       "      <td>60</td>\n",
       "    </tr>\n",
       "    <tr>\n",
       "      <th>585</th>\n",
       "      <td>135</td>\n",
       "      <td>130</td>\n",
       "    </tr>\n",
       "    <tr>\n",
       "      <th>770</th>\n",
       "      <td>65</td>\n",
       "      <td>65</td>\n",
       "    </tr>\n",
       "    <tr>\n",
       "      <th>617</th>\n",
       "      <td>86</td>\n",
       "      <td>67</td>\n",
       "    </tr>\n",
       "  </tbody>\n",
       "</table>\n",
       "<p>200 rows × 2 columns</p>\n",
       "</div>"
      ],
      "text/plain": [
       "     Attack  Defense\n",
       "153     105       65\n",
       "546      70      120\n",
       "718      61       65\n",
       "3       100      123\n",
       "543     160      110\n",
       "..      ...      ...\n",
       "203      45       50\n",
       "298     100       60\n",
       "585     135      130\n",
       "770      65       65\n",
       "617      86       67\n",
       "\n",
       "[200 rows x 2 columns]"
      ]
     },
     "metadata": {},
     "execution_count": 17
    }
   ],
   "metadata": {}
  },
  {
   "cell_type": "code",
   "execution_count": null,
   "source": [
    "# Conduct a matched pair test for the features Attack and Defense\r\n",
    "matched_test = st.ttest_rel(pokemane_atk_def_sample['Attack'], pokemane_atk_def_sample['Defense'])\r\n",
    "matched_test\r\n",
    "# The p-value is signifcantly lower than our alpha value, suggesting that we can reject H_0.\r\n",
    "# This suggests that Attack and Defense are not equal."
   ],
   "outputs": [],
   "metadata": {}
  },
  {
   "cell_type": "markdown",
   "source": [
    "# OPTIONAL PART | Inferential statistics - ANOVA\r\n",
    "\r\n",
    "Note: The following lab is divided in 2 sections which represent activities 3 and 4."
   ],
   "metadata": {}
  },
  {
   "cell_type": "markdown",
   "source": [
    "## Part 1\r\n",
    "\r\n",
    "In this activity, we will look at another example.  \r\n",
    "Your task is to understand the problem and write down all the steps to set up ANOVA.  \r\n",
    "After the next lesson, we will ask you to solve this problem using Python.   \r\n",
    "Here are the steps that you would need to work on:\r\n",
    "- Null hypothesis\r\n",
    "- Alternate hypothesis\r\n",
    "- Level of significance\r\n",
    "- Test statistic\r\n",
    "- P-value\r\n",
    "- F table"
   ],
   "metadata": {}
  },
  {
   "cell_type": "markdown",
   "source": [
    "### Context\r\n",
    "\r\n",
    "Suppose you are working as an analyst in a microprocessor chip manufacturing plant.  \r\n",
    "You have been given the task of analyzing a plasma etching process with respect to changing Power (in Watts) of the plasma beam.   \r\n",
    "Data was collected and provided to you to conduct statistical analysis and check if changing the power of the plasma beam   \r\n",
    "has any effect on the etching rate by the machine.   \r\n",
    "You will conduct ANOVA and check if there is any difference in the mean etching rate for different levels of power.   \r\n",
    "You can find the data `anova_lab_data.xlsx` file in the `files_for_lab` folder  \r\n",
    "\r\n",
    "- State the null hypothesis\r\n",
    "- State the alternate hypothesis\r\n",
    "- What is the significance level\r\n",
    "- What are the degrees of freedom of model, error terms, and total DoF\r\n",
    "\r\n",
    "Data was collected randomly and provided to you in the table as shown:  \r\n",
    "[link to the image - Data](https://education-team-2020.s3-eu-west-1.amazonaws.com/data-analytics/7.05/7.05-lab_data.png)"
   ],
   "metadata": {}
  },
  {
   "cell_type": "code",
   "execution_count": 22,
   "source": [
    "# Create a dataframe from the anova_lab_data.xlsx file\r\n",
    "import openpyxl\r\n",
    "import xlrd\r\n",
    "\r\n",
    "anova_data = pd.read_excel(\"./files_for_lab/anova_lab_data.xlsx\")\r\n",
    "anova_data.head(10)"
   ],
   "outputs": [
    {
     "output_type": "execute_result",
     "data": {
      "text/html": [
       "<div>\n",
       "<style scoped>\n",
       "    .dataframe tbody tr th:only-of-type {\n",
       "        vertical-align: middle;\n",
       "    }\n",
       "\n",
       "    .dataframe tbody tr th {\n",
       "        vertical-align: top;\n",
       "    }\n",
       "\n",
       "    .dataframe thead th {\n",
       "        text-align: right;\n",
       "    }\n",
       "</style>\n",
       "<table border=\"1\" class=\"dataframe\">\n",
       "  <thead>\n",
       "    <tr style=\"text-align: right;\">\n",
       "      <th></th>\n",
       "      <th>Power</th>\n",
       "      <th>Etching Rate</th>\n",
       "    </tr>\n",
       "  </thead>\n",
       "  <tbody>\n",
       "    <tr>\n",
       "      <th>0</th>\n",
       "      <td>160 W</td>\n",
       "      <td>5.43</td>\n",
       "    </tr>\n",
       "    <tr>\n",
       "      <th>1</th>\n",
       "      <td>180 W</td>\n",
       "      <td>6.24</td>\n",
       "    </tr>\n",
       "    <tr>\n",
       "      <th>2</th>\n",
       "      <td>200 W</td>\n",
       "      <td>8.79</td>\n",
       "    </tr>\n",
       "    <tr>\n",
       "      <th>3</th>\n",
       "      <td>160 W</td>\n",
       "      <td>5.71</td>\n",
       "    </tr>\n",
       "    <tr>\n",
       "      <th>4</th>\n",
       "      <td>180 W</td>\n",
       "      <td>6.71</td>\n",
       "    </tr>\n",
       "    <tr>\n",
       "      <th>5</th>\n",
       "      <td>200 W</td>\n",
       "      <td>9.20</td>\n",
       "    </tr>\n",
       "    <tr>\n",
       "      <th>6</th>\n",
       "      <td>160 W</td>\n",
       "      <td>6.22</td>\n",
       "    </tr>\n",
       "    <tr>\n",
       "      <th>7</th>\n",
       "      <td>180 W</td>\n",
       "      <td>5.98</td>\n",
       "    </tr>\n",
       "    <tr>\n",
       "      <th>8</th>\n",
       "      <td>200 W</td>\n",
       "      <td>7.90</td>\n",
       "    </tr>\n",
       "    <tr>\n",
       "      <th>9</th>\n",
       "      <td>160 W</td>\n",
       "      <td>6.01</td>\n",
       "    </tr>\n",
       "  </tbody>\n",
       "</table>\n",
       "</div>"
      ],
      "text/plain": [
       "  Power   Etching Rate\n",
       "0  160 W          5.43\n",
       "1  180 W          6.24\n",
       "2  200 W          8.79\n",
       "3  160 W          5.71\n",
       "4  180 W          6.71\n",
       "5  200 W          9.20\n",
       "6  160 W          6.22\n",
       "7  180 W          5.98\n",
       "8  200 W          7.90\n",
       "9  160 W          6.01"
      ]
     },
     "metadata": {},
     "execution_count": 22
    }
   ],
   "metadata": {}
  },
  {
   "cell_type": "markdown",
   "source": [
    "## STATE HYPOTHESES:\r\n",
    "**Null Hyopthesis:**  \r\n",
    "H_0 = There is no change in the mean rate of etching./ Mean rate of etching is the same regardless of plasma beam power output.\r\n",
    "\r\n",
    "**Alternate Hypothesis:**  \r\n",
    "H_1 = The mean rate of etching varies by plasma power output.\r\n",
    "\r\n"
   ],
   "metadata": {}
  },
  {
   "cell_type": "code",
   "execution_count": 58,
   "source": [
    "# Test statistics\r\n",
    "anova_data['Recorded Rate'] = anova_data.groupby('Power ').cumcount()\r\n",
    "anova_data_pivot = anova_data.pivot(index = 'Recorded Rate', columns = 'Power ', values = 'Etching Rate')\r\n",
    "anova_data_pivot\r\n",
    "\r\n",
    "# Degrees of Freedom = number of samples - 1\r\n",
    "DoF = len(anova_data_pivot) - 1\r\n"
   ],
   "outputs": [
    {
     "output_type": "execute_result",
     "data": {
      "text/html": [
       "<div>\n",
       "<style scoped>\n",
       "    .dataframe tbody tr th:only-of-type {\n",
       "        vertical-align: middle;\n",
       "    }\n",
       "\n",
       "    .dataframe tbody tr th {\n",
       "        vertical-align: top;\n",
       "    }\n",
       "\n",
       "    .dataframe thead th {\n",
       "        text-align: right;\n",
       "    }\n",
       "</style>\n",
       "<table border=\"1\" class=\"dataframe\">\n",
       "  <thead>\n",
       "    <tr style=\"text-align: right;\">\n",
       "      <th>Power</th>\n",
       "      <th>160 W</th>\n",
       "      <th>180 W</th>\n",
       "      <th>200 W</th>\n",
       "    </tr>\n",
       "    <tr>\n",
       "      <th>Recorded Rate</th>\n",
       "      <th></th>\n",
       "      <th></th>\n",
       "      <th></th>\n",
       "    </tr>\n",
       "  </thead>\n",
       "  <tbody>\n",
       "    <tr>\n",
       "      <th>0</th>\n",
       "      <td>5.43</td>\n",
       "      <td>6.24</td>\n",
       "      <td>8.79</td>\n",
       "    </tr>\n",
       "    <tr>\n",
       "      <th>1</th>\n",
       "      <td>5.71</td>\n",
       "      <td>6.71</td>\n",
       "      <td>9.20</td>\n",
       "    </tr>\n",
       "    <tr>\n",
       "      <th>2</th>\n",
       "      <td>6.22</td>\n",
       "      <td>5.98</td>\n",
       "      <td>7.90</td>\n",
       "    </tr>\n",
       "    <tr>\n",
       "      <th>3</th>\n",
       "      <td>6.01</td>\n",
       "      <td>5.66</td>\n",
       "      <td>8.15</td>\n",
       "    </tr>\n",
       "    <tr>\n",
       "      <th>4</th>\n",
       "      <td>5.59</td>\n",
       "      <td>6.60</td>\n",
       "      <td>7.55</td>\n",
       "    </tr>\n",
       "  </tbody>\n",
       "</table>\n",
       "</div>"
      ],
      "text/plain": [
       "Power          160 W  180 W  200 W\n",
       "Recorded Rate                     \n",
       "0               5.43   6.24   8.79\n",
       "1               5.71   6.71   9.20\n",
       "2               6.22   5.98   7.90\n",
       "3               6.01   5.66   8.15\n",
       "4               5.59   6.60   7.55"
      ]
     },
     "metadata": {},
     "execution_count": 58
    }
   ],
   "metadata": {}
  },
  {
   "cell_type": "markdown",
   "source": [
    "## Part 2\r\n",
    "\r\n",
    "- In this section, use the Python to conduct ANOVA.\r\n",
    "- What conclusions can you draw from the experiment and why?"
   ],
   "metadata": {}
  },
  {
   "cell_type": "code",
   "execution_count": 59,
   "source": [
    "anova_test = st.f_oneway(anova_data_pivot['160 W'], anova_data_pivot['180 W'], anova_data_pivot['200 W'])\r\n",
    "print('ANOVA p-value =', anova_test[1])\r\n"
   ],
   "outputs": [
    {
     "output_type": "stream",
     "name": "stdout",
     "text": [
      "ANOVA p-value = 7.506584272358903e-06\n"
     ]
    }
   ],
   "metadata": {}
  },
  {
   "cell_type": "markdown",
   "source": [
    "## P-VALUE VERSUS SIGNIFICANCE LEVEL\r\n",
    "\r\n",
    "Based on the p-value returned versus our alpha of 0.02 we can safely reject H_0.\r\n"
   ],
   "metadata": {}
  },
  {
   "cell_type": "code",
   "execution_count": null,
   "source": [],
   "outputs": [],
   "metadata": {}
  },
  {
   "cell_type": "code",
   "execution_count": null,
   "source": [],
   "outputs": [],
   "metadata": {}
  }
 ],
 "metadata": {
  "orig_nbformat": 4,
  "language_info": {
   "name": "python",
   "version": "3.9.6",
   "mimetype": "text/x-python",
   "codemirror_mode": {
    "name": "ipython",
    "version": 3
   },
   "pygments_lexer": "ipython3",
   "nbconvert_exporter": "python",
   "file_extension": ".py"
  },
  "kernelspec": {
   "name": "python3",
   "display_name": "Python 3.9.6 64-bit"
  },
  "interpreter": {
   "hash": "aedf8f1d51000f588b88a278d8030ee8b8cb0ccbfbd1b6163ec7fb88fccbe87e"
  }
 },
 "nbformat": 4,
 "nbformat_minor": 2
}